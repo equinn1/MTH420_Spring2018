{
 "cells": [
  {
   "cell_type": "markdown",
   "metadata": {},
   "source": [
    "## Week 3 Case Study - Classification with Support Vector Machines"
   ]
  },
  {
   "cell_type": "markdown",
   "metadata": {},
   "source": [
    "### In this exercise our task is to classify applicants for credit into two groups: creditworthy and not creditworthy\n",
    "\n",
    "The data is the Statlog (German Credit Data) dataset from the UC Irvine machine learning repository: \n",
    "\n",
    "(http://archive.ics.uci.edu/ml/index.php) \n",
    "\n",
    "Use the scikit-learn flowchart (http://scikit-learn.org/stable/tutorial/machine_learning_map/index.html) as a roadmap.\n",
    "\n",
    "In the language of the flowchart, we want to predict a category using a sample of 1,000 labeled cases "
   ]
  },
  {
   "cell_type": "markdown",
   "metadata": {},
   "source": [
    "### Suggestion:\n",
    "\n",
    " -  Follow the flowchart to the first recommended technique.\n",
    " -  See if you can get the sample code to run.  This will give you an overview of the process.\n",
    " -  Try to adapt it to the task at hand.  You will need to:\n",
    "      - Read the data (this may be something of a challenge)\n",
    "      - Split the data into training and test subsamples (optionally with the train-test-split function)\n",
    "      - Use the data to produce separate numpy arrays for the features and labels\n",
    "      - Use the training sample to train the model\n",
    "      - Use the test sample to determine the percentage of correct predictions\n",
    "      - Explore different options to see how high you can get the percentage correctly classified"
   ]
  },
  {
   "cell_type": "markdown",
   "metadata": {},
   "source": [
    "### One way to read the data \n",
    "\n",
    "The pandas package is a powerful general-purpose data wrangling utility.  One option is to read the data into a pandas dataframe using the very powerful and flexible `read_csv()` function.  Once you have the dataframe there is a function that converts it to a numpy array.  \n",
    "\n",
    "The standard imports to get started are in the cell below."
   ]
  },
  {
   "cell_type": "code",
   "execution_count": 1,
   "metadata": {
    "collapsed": true
   },
   "outputs": [],
   "source": [
    "import numpy as np\n",
    "import scipy as sp\n",
    "import pandas as pd\n",
    "import matplotlib.pyplot as plt\n",
    "from sklearn import svm"
   ]
  },
  {
   "cell_type": "code",
   "execution_count": null,
   "metadata": {
    "collapsed": true
   },
   "outputs": [],
   "source": []
  }
 ],
 "metadata": {
  "kernelspec": {
   "display_name": "Python 3",
   "language": "python",
   "name": "python3"
  },
  "language_info": {
   "codemirror_mode": {
    "name": "ipython",
    "version": 3
   },
   "file_extension": ".py",
   "mimetype": "text/x-python",
   "name": "python",
   "nbconvert_exporter": "python",
   "pygments_lexer": "ipython3",
   "version": "3.6.2"
  }
 },
 "nbformat": 4,
 "nbformat_minor": 2
}
